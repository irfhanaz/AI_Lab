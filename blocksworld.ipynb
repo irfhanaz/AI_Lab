{
 "metadata": {
  "language_info": {
   "codemirror_mode": {
    "name": "ipython",
    "version": 3
   },
   "file_extension": ".py",
   "mimetype": "text/x-python",
   "name": "python",
   "nbconvert_exporter": "python",
   "pygments_lexer": "ipython3",
   "version": "3.7.4"
  },
  "orig_nbformat": 2,
  "kernelspec": {
   "name": "python374jvsc74a57bd0eb45b17e353abe5420ddf756149ca00151f446855178e689a23f02481b0b293d",
   "display_name": "Python 3.7.4 64-bit ('base': conda)"
  }
 },
 "nbformat": 4,
 "nbformat_minor": 2,
 "cells": [
  {
   "source": [
    "# Blocks World Problem Using A* Algorithm\n",
    "#### Irfhana Zakir Hussain | RA1811027010100 | April 21 2021"
   ],
   "cell_type": "markdown",
   "metadata": {}
  },
  {
   "source": [
    "## Aim\n",
    "- To provide a programming implementation to the Blocks World Problem using A* Search algorithm and Manhatten Distance Heuristic"
   ],
   "cell_type": "markdown",
   "metadata": {}
  },
  {
   "source": [
    "## Manual Procedure\n",
    "\n",
    "### Initial State:\n",
    "| A |               \n",
    "| B | | D |             \n",
    "| C | | E |\n",
    "\n",
    "### Goal State\n",
    "\n",
    "| E |    ---- | C |         \n",
    "| A | | B | | D |\n",
    "\n",
    "### Solution:\n",
    "\n",
    "1. Move A on table\n",
    "\n",
    "2. Move D on table\n",
    "\n",
    "3. Move B on table\n",
    "\n",
    "4. Move E on A\n",
    "\n",
    "5. Move C on D\n",
    "\n",
    "Each step is chosed using A* algorithm which will calculate the cost of moving a block (1) and the manhatten distance from the current state from the goal state.\n",
    "\n"
   ],
   "cell_type": "markdown",
   "metadata": {}
  },
  {
   "source": [
    "## Code"
   ],
   "cell_type": "markdown",
   "metadata": {}
  },
  {
   "cell_type": "code",
   "execution_count": 116,
   "metadata": {},
   "outputs": [],
   "source": [
    "from itertools import permutations\n",
    "from time import perf_counter\n",
    "from copy import deepcopy\n",
    "import re"
   ]
  },
  {
   "cell_type": "code",
   "execution_count": 117,
   "metadata": {},
   "outputs": [],
   "source": [
    "def blocksWorld(): #sets up the problem as described in the manual procedure\n",
    "\n",
    "    blocks = ['E', 'C', 'D', 'A', 'B']\n",
    "    initial_state = [('CLEAR', 'A', ''), ('CLEAR', 'D', ''), ('ONTABLE', 'C',''), ('ONTABLE', 'E', ''), \n",
    "    ('ON', 'A', 'B'), ('ON', 'B', 'C'), ('ON', 'D', 'E')]\n",
    "    goal_state= [('E', 'A'), ('C','D')]\n",
    "    setup = {i: ['table', True] for i in blocks}\n",
    "    print('Initial: ', initial_state)\n",
    "    print('Goal: ', goal_state)\n",
    "    print('Blocks: ', blocks)\n",
    "    for block in initial_state:\n",
    "        if block[0] == 'ON':\n",
    "            setup[block[1]][0] = block[2]\n",
    "            setup[block[2]][1] = False\n",
    "    goal = {i: ['table', True] for i in blocks}\n",
    "    for block in goal_state:\n",
    "        goal[block[0]][0] = block[1]\n",
    "        goal[block[1]][1] = False\n",
    "    return setup, goal, blocks"
   ]
  },
  {
   "cell_type": "code",
   "execution_count": 118,
   "metadata": {},
   "outputs": [],
   "source": [
    "class Node(object):\n",
    "    \"\"\"\n",
    "        definition \n",
    "            Each node in the tree is a state. The definition explains each                 block in the state in the following manner:\n",
    "            'Block name': ['On Top of Block Name', Movable? (Boolean)]\n",
    "        parent\n",
    "            The parent node\n",
    "\n",
    "        move\n",
    "            Describes the move that needed to take place to get to this state \n",
    "            from the parent node\n",
    "            [Moved Block Name, From Block Name/Table, To Block Name/Table]\n",
    "    \"\"\"\n",
    "\n",
    "    def __init__(self, definition=None, parent=None, move=None):\n",
    "        super(Node, self).__init__()\n",
    "        self.parent = parent\n",
    "        self.pastmove = move \n",
    "        if not definition:\n",
    "            self.defi = deepcopy(self.parent.defi)\n",
    "            # If that move doesn't exists, it's a root state.\n",
    "            if self.pastmove is not None:\n",
    "                self.move(self.pastmove[0], self.pastmove[2])\n",
    "        else:\n",
    "            self.defi = definition\n",
    "    def __hash__(self):\n",
    "        string = ''\n",
    "        for key, value in self.defi.items():\n",
    "            string += \"\".join(key + value[0] + str(value[1])[0])\n",
    "        return hash(string)\n",
    "    def __eq__(self, other):\n",
    "        if other is None:\n",
    "            return False\n",
    "        return self.defi == other.defi\n",
    "    def __repr__(self):\n",
    "        return str(self.defi) + '\\n'\n",
    "    def getpossmoves(self):\n",
    "        movable_blocks = [key for key in self.defi if self.defi[key][1] is True]\n",
    "        # Calculate all possible move permutations and add the special case of moving a cube onto table, if it's not already.\n",
    "        possibleMoves = list(permutations(movable_blocks, 2)) + [(block, 'table') for block in movable_blocks if self.defi[block][0] != 'table']\n",
    "        poss_next_states = []\n",
    "        for source, dest in possibleMoves:\n",
    "            poss_next_states.append(Node(parent=self, move=self.move(source, dest, True)))\n",
    "        return poss_next_states\n",
    "\n",
    "    def move(self, object, dest, fake = False):\n",
    "        old = self.defi[object][0] \n",
    "        if fake:\n",
    "            return [object, old, dest]\n",
    "        if old != 'table':\n",
    "            self.defi[old][1] = True #the block that it used to be on is now movable!\n",
    "        self.defi[object][0] = dest #the block is now on the dest block\n",
    "        if dest != 'table':\n",
    "            self.defi[dest][1] = False #the dest block is not movable now!\n",
    "        move = [object, old, dest]\n",
    "    \n",
    "        return move\n",
    "\n",
    "    def getPath(self):\n",
    "        path = []\n",
    "        current = self\n",
    "        while current.parent is not None:\n",
    "            path.append(current.pastmove)\n",
    "            current = current.parent\n",
    "        return path[::-1]"
   ]
  },
  {
   "cell_type": "code",
   "execution_count": 119,
   "metadata": {},
   "outputs": [],
   "source": [
    "def heuristic(poss_next_states, goal):\n",
    "    heuristic_scores = []\n",
    "    for state in poss_next_states:\n",
    "        wrong_pos = 0\n",
    "        for block in state.defi:\n",
    "            if state.defi[block] != goal.defi[block]:\n",
    "                wrong_pos += 1\n",
    "        heuristic_scores.append(wrong_pos + len(state.getPath()))\n",
    "    return heuristic_scores.index(min(heuristic_scores))\n",
    "\n",
    "def A_search(initial, goal):\n",
    "    iterr = 0\n",
    "    visit, list = set(), [initial]\n",
    "    t1 = perf_counter()\n",
    "    while list:\n",
    "        t2 = perf_counter()\n",
    "        if t2 - t1 > 60: #making it more computationally efficient in case no solution is possible\n",
    "            return None, iterr\n",
    "        iterr += 1\n",
    "        item = heuristic(list, goal)\n",
    "        best_node = list.pop(item)\n",
    "\n",
    "        if best_node == goal:\n",
    "            return best_node.getPath(), iterr\n",
    "\n",
    "        for nextt in best_node.getpossmoves():\n",
    "            if nextt in visit:\n",
    "                continue\n",
    "            visit.add(nextt)\n",
    "            list.append(nextt)"
   ]
  },
  {
   "cell_type": "code",
   "execution_count": 120,
   "metadata": {},
   "outputs": [],
   "source": [
    "def print_path(moves): #prints solution\n",
    "    print('\\n')\n",
    "    i = 0\n",
    "    for move in moves:\n",
    "        i += 1\n",
    "        print('{}. Move({}, {}, {})\\n' .format(\n",
    "            i, move[0], move[1], move[2]))"
   ]
  },
  {
   "cell_type": "code",
   "execution_count": 121,
   "metadata": {},
   "outputs": [
    {
     "output_type": "stream",
     "name": "stdout",
     "text": [
      "Initial:  [('CLEAR', 'A', ''), ('CLEAR', 'D', ''), ('ONTABLE', 'C', ''), ('ONTABLE', 'E', ''), ('ON', 'A', 'B'), ('ON', 'B', 'C'), ('ON', 'D', 'E')]\nGoal:  [('E', 'A'), ('C', 'D')]\nBlocks:  ['E', 'C', 'D', 'A', 'B']\n\n\nCost: 5\n\n\n1. Move(D, E, table)\n\n2. Move(A, B, table)\n\n3. Move(E, table, A)\n\n4. Move(B, C, table)\n\n5. Move(C, table, D)\n\n"
     ]
    }
   ],
   "source": [
    "setup, goal, blocks = blocksWorld()\n",
    "initial_state = Node(setup)\n",
    "goal_state = Node(goal)\n",
    "t1 = perf_counter()\n",
    "path, iters = A_search(initial_state, goal_state)\n",
    "t2 = perf_counter()\n",
    "if path:\n",
    "    print(\"\\n\\nCost: \" + str(len(path)))\n",
    "    print_path(path)\n",
    "else:\n",
    "    print(\"Solution Not Found!\")"
   ]
  },
  {
   "source": [
    "## Results\n",
    "\n",
    "We have successfully implemented A* Search and Manhatten Distance Heuristic to solve the given blocks world problem."
   ],
   "cell_type": "markdown",
   "metadata": {}
  }
 ]
}