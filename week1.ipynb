{
 "metadata": {
  "language_info": {
   "codemirror_mode": {
    "name": "ipython",
    "version": 3
   },
   "file_extension": ".py",
   "mimetype": "text/x-python",
   "name": "python",
   "nbconvert_exporter": "python",
   "pygments_lexer": "ipython3",
   "version": "3.7.4-final"
  },
  "orig_nbformat": 2,
  "kernelspec": {
   "name": "python3",
   "display_name": "Python 3",
   "language": "python"
  }
 },
 "nbformat": 4,
 "nbformat_minor": 2,
 "cells": [
  {
   "source": [
    "# The Water Jug Problem - General Solution - No Limitations\n",
    "#### Irfhana Zakir Hussain | RA1811027010100 | January 20, 2021"
   ],
   "cell_type": "markdown",
   "metadata": {}
  },
  {
   "source": [
    "## Aim\n",
    "- To provide a programming solution to the Water Jug Problem in which the parameters are the volume capacity of the two jugs and the target volume needed to be measured. \n",
    "- The Water Jug Problem is as follows:\n",
    "    - There are two jugs of volume X litres and Y litres. Neither has any measuring mark on it.\n",
    "    - There is a pump that can be used to fill the jugs with water.\n",
    "    - Assuming that we have unlimited supply of water, how can you get exactly Z litres of water into one of the jugs?\n"
   ],
   "cell_type": "markdown",
   "metadata": {}
  },
  {
   "source": [
    "## State-Space Tree\n",
    "\n",
    "When the inputs are jug1_size = 5, jug2_size = 3, and target = 4 respectively, the solution for the Water Jug Problem can be represented as follows:\n",
    "    \n",
    "![](waterjugproblem_diagram.jpg)\n",
    "\n",
    "\n"
   ],
   "cell_type": "markdown",
   "metadata": {}
  },
  {
   "source": [
    "## Code"
   ],
   "cell_type": "markdown",
   "metadata": {}
  },
  {
   "cell_type": "code",
   "execution_count": 16,
   "metadata": {},
   "outputs": [],
   "source": [
    "#the inputs for the jug capacities and the target volume are taken:\n",
    "jug1_size = int(input())\n",
    "jug2_size = int(input())\n",
    "target = int(input())\n"
   ]
  },
  {
   "source": [
    "In the following function, the actual pouring function is being coded out. The function takes the max capacities of the jug that will be poured into and the jug from which the water comes from as well as the target capacity. We start with the first step which initializes the to_jug as 0 and the from_jug to its full capacity. Then, while the contents of either jug does not contain the target capacity the following steps are performed:\n",
    "- The Maximum Amount That Can Be Poured into the to_jug is calculated. \n",
    "    -       This can either be the total capacity of the from_jug if the from_jug's capacity is less than the to_jug's max capacity OR whatever free space remains in the to_jug. \n",
    "    -       The minimum of the two is taken.\n",
    "- This amount is put into the to_jug and removed from the from jug and the step is recorded.\n",
    "- If either the to_jug or the from_jug has the target amount then we exit the while loop and the steps are returned.\n",
    "- If the from_jug is empty then it is filled and the step is recorded.\n",
    "- If the to_jug is filled to its max capacity then it is emptied and the step is recorded."
   ],
   "cell_type": "markdown",
   "metadata": {}
  },
  {
   "cell_type": "code",
   "execution_count": 17,
   "metadata": {},
   "outputs": [],
   "source": [
    "def transfer(to_jug_max, from_jug_max, target): #the actual pouring function\n",
    "    to_jug = 0 \n",
    "    from_jug = from_jug_max\n",
    "    status = [[0, 0], [from_jug, to_jug]]\n",
    "    while((from_jug != target) and (to_jug != target)):\n",
    "        max_amt_to_be_poured = min(from_jug, (to_jug_max - to_jug))\n",
    "        to_jug = to_jug + max_amt_to_be_poured\n",
    "        from_jug = from_jug - max_amt_to_be_poured\n",
    "        current_status = [from_jug, to_jug]\n",
    "        status.append(current_status)\n",
    "        if(from_jug == target or to_jug == target):\n",
    "            break\n",
    "        if(from_jug == 0):\n",
    "            from_jug = from_jug_max\n",
    "            current_status = [from_jug, to_jug]\n",
    "            status.append(current_status)\n",
    "        if(to_jug == to_jug_max):\n",
    "            to_jug = 0\n",
    "            current_status = [from_jug, to_jug]\n",
    "            status.append(current_status)\n",
    "    return status"
   ]
  },
  {
   "cell_type": "code",
   "execution_count": 18,
   "metadata": {},
   "outputs": [],
   "source": [
    "def gcd(x, y):\n",
    "  if y == 0:\n",
    "    return x\n",
    "  return gcd(y, x%y)"
   ]
  },
  {
   "source": [
    "As seen in the state-space tree, with two jugs there can be more than one way to get to the solution. We want to optimize the solution such that it takes the least possible steps to reach the target value. We use the following function to first determine whether a solution exists for the given values and then if a solution exists we find the best solution by calling the transfer function with the jug sizes interchanged. Then, we get the minimum length of the two to return the steps and the number of steps needed to reach the best solution."
   ],
   "cell_type": "markdown",
   "metadata": {}
  },
  {
   "cell_type": "code",
   "execution_count": 19,
   "metadata": {},
   "outputs": [],
   "source": [
    "def min_steps(jug1_size, jug2_size, target):\n",
    "    if jug2_size > jug1_size:\n",
    "        temp = jug2_size\n",
    "        jug2_size = jug1_size\n",
    "        jug1_size = temp\n",
    "    if (jug1_size < target) or (target % gcd(jug1_size, jug2_size) != 0) :\n",
    "      print(\"No Solution\")\n",
    "      return [], 0\n",
    "    ver1 = transfer(jug1_size, jug2_size, target)\n",
    "    ver2 = transfer(jug2_size, jug1_size, target)\n",
    "    if len(ver1) < len(ver2):\n",
    "      return ver1, len(ver1)\n",
    "    else:\n",
    "      return ver2, len(ver2)"
   ]
  },
  {
   "cell_type": "code",
   "execution_count": 20,
   "metadata": {},
   "outputs": [
    {
     "output_type": "stream",
     "name": "stdout",
     "text": [
      "[[0, 0], [7, 0], [3, 4]]\nNumber of steps: 3\n"
     ]
    }
   ],
   "source": [
    "steps, size = min_steps(jug1_size, jug2_size, target) #calling the min_steps function to get the optimal solution and the number of steps needed to get to the solution\n",
    "print(steps)\n",
    "print(\"Number of steps:\" , size)"
   ]
  },
  {
   "source": [
    "## Results\n",
    "We have successfully implemented the general solution to the Water Jug Problem.\n",
    "\n",
    "Some sample solutions:\n",
    "-   Input: 5, 3, 4\n",
    "-   Output: \n",
    "    -           [0, 0], [5, 0], [2, 3], [2, 0], [0, 2], [5, 2], [4, 3]\n",
    "    -           Number of steps: 7\n",
    "-   Input: 5, 2, 1\n",
    "-   Output: \n",
    "    -           [0, 0], [5, 0], [3, 2], [3, 0], [1, 2]\n",
    "    -           Number of steps: 7\n",
    "-   Input: 4, 2, 3\n",
    "-   Output: \n",
    "    -           No Solution\n",
    "    -           Number of steps: 0"
   ],
   "cell_type": "markdown",
   "metadata": {}
  }
 ]
}