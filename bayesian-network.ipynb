{
 "metadata": {
  "language_info": {
   "codemirror_mode": {
    "name": "ipython",
    "version": 3
   },
   "file_extension": ".py",
   "mimetype": "text/x-python",
   "name": "python",
   "nbconvert_exporter": "python",
   "pygments_lexer": "ipython3",
   "version": "3.7.4"
  },
  "orig_nbformat": 2,
  "kernelspec": {
   "name": "python374jvsc74a57bd0eb45b17e353abe5420ddf756149ca00151f446855178e689a23f02481b0b293d",
   "display_name": "Python 3.7.4 64-bit ('base': conda)"
  }
 },
 "nbformat": 4,
 "nbformat_minor": 2,
 "cells": [
  {
   "cell_type": "code",
   "execution_count": 2,
   "metadata": {},
   "outputs": [
    {
     "output_type": "stream",
     "name": "stdout",
     "text": [
      "Collecting pomegranate\n",
      "\u001b[?25l  Downloading https://files.pythonhosted.org/packages/10/30/97c2bdb283bd618961e7747552a96816e46bbc5fd1cc19a0d1b1ddaf4e88/pomegranate-0.14.5-cp37-cp37m-macosx_10_9_x86_64.whl (7.1MB)\n",
      "\u001b[K     |████████████████████████████████| 7.1MB 3.0MB/s \n",
      "\u001b[?25hCollecting numpy>=1.20.0 (from pomegranate)\n",
      "  Using cached https://files.pythonhosted.org/packages/b6/50/ecda32e07ec70235a828dcd8ec32395ef7772120ccbe5a73df9cc3db1090/numpy-1.20.3-cp37-cp37m-macosx_10_9_x86_64.whl\n",
      "Requirement already satisfied: pyyaml in /Users/irfhanazakirhussain/opt/anaconda3/lib/python3.7/site-packages (from pomegranate) (5.1.2)\n",
      "Collecting networkx>=2.4 (from pomegranate)\n",
      "\u001b[?25l  Downloading https://files.pythonhosted.org/packages/f3/b7/c7f488101c0bb5e4178f3cde416004280fd40262433496830de8a8c21613/networkx-2.5.1-py3-none-any.whl (1.6MB)\n",
      "\u001b[K     |████████████████████████████████| 1.6MB 9.9MB/s \n",
      "\u001b[?25hRequirement already satisfied: joblib>=0.9.0b4 in /Users/irfhanazakirhussain/opt/anaconda3/lib/python3.7/site-packages (from pomegranate) (0.13.2)\n",
      "Requirement already satisfied: scipy>=0.17.0 in /Users/irfhanazakirhussain/opt/anaconda3/lib/python3.7/site-packages (from pomegranate) (1.3.1)\n",
      "Requirement already satisfied: decorator<5,>=4.3 in /Users/irfhanazakirhussain/opt/anaconda3/lib/python3.7/site-packages (from networkx>=2.4->pomegranate) (4.4.0)\n",
      "\u001b[31mERROR: tensorflow 2.3.1 has requirement numpy<1.19.0,>=1.16.0, but you'll have numpy 1.20.3 which is incompatible.\u001b[0m\n",
      "Installing collected packages: numpy, networkx, pomegranate\n",
      "  Found existing installation: numpy 1.17.2\n",
      "    Uninstalling numpy-1.17.2:\n",
      "      Successfully uninstalled numpy-1.17.2\n",
      "  Found existing installation: networkx 2.3\n",
      "    Uninstalling networkx-2.3:\n",
      "      Successfully uninstalled networkx-2.3\n",
      "Successfully installed networkx-2.5.1 numpy-1.20.3 pomegranate-0.14.5\n"
     ]
    }
   ],
   "source": [
    "!pip install pomegranate"
   ]
  },
  {
   "cell_type": "code",
   "execution_count": 5,
   "metadata": {},
   "outputs": [],
   "source": [
    "from pomegranate import *\n",
    "burglary = DiscreteDistribution({'True' : 0.001, 'False' : 0.999})\n",
    "earthquake = DiscreteDistribution({'True' : 0.002, 'False' : 0.998})\n",
    "alarm = ConditionalProbabilityTable(\n",
    "        [['True', 'True', 'True', 0.94],\n",
    "        ['True', 'True', 'False', 0.06],\n",
    "        ['True', 'False', 'True', 0.95],\n",
    "        ['True', 'False', 'False', 0.05],\n",
    "        ['False', 'True', 'True', 0.31],\n",
    "        ['False', 'True', 'False', 0.69],\n",
    "        ['False', 'False', 'True', 0.001],\n",
    "        ['False', 'False', 'False', 0.999]], [burglary, earthquake])\n",
    "dave = ConditionalProbabilityTable(\n",
    "        [['True', 'True', 0.91],\n",
    "        ['True', 'False', 0.09],\n",
    "        ['False', 'True', 0.05],\n",
    "        ['False', 'False', 0.95]], [alarm])\n",
    "meg = ConditionalProbabilityTable(\n",
    "        [['True', 'True', 0.75 ],\n",
    "        ['True', 'False', 0.25 ],\n",
    "        ['False', 'True', 0.02],\n",
    "        ['False', 'False', 0.98]], [alarm])\n",
    "s1 = Node(burglary, name = \"Burglary\")\n",
    "s2 = Node(earthquake, name = \"Earthquake\")\n",
    "s3 = Node(alarm, name = \"Alarm\")\n",
    "s4 = Node(dave, name = \"Dave calls\")\n",
    "s5 = Node(meg, name = \"Meg calls\")\n",
    "\n",
    "model = BayesianNetwork(\"Burglary-Earthquake Problem\")\n",
    "model.add_states(s1,s2,s3,s4,s5)\n",
    "model.add_edge(s1,s3)\n",
    "model.add_edge(s2,s3)\n",
    "model.add_edge(s3,s4)\n",
    "model.add_edge(s3,s5)\n",
    "model.bake()"
   ]
  },
  {
   "cell_type": "code",
   "execution_count": 6,
   "metadata": {},
   "outputs": [
    {
     "output_type": "execute_result",
     "data": {
      "text/plain": [
       "0.0006804538650000005"
      ]
     },
     "metadata": {},
     "execution_count": 6
    }
   ],
   "source": [
    "#probability that alarm has sounded, but there is neither a burglary, nor an earthquake occurred, and Dave and Meg both called me. 0.0006804538650000005\n",
    "\n",
    "model.probability([['False', 'False', 'True', 'True', 'True']]) "
   ]
  },
  {
   "cell_type": "code",
   "execution_count": 7,
   "metadata": {},
   "outputs": [
    {
     "output_type": "execute_result",
     "data": {
      "text/plain": [
       "[array(['True', 'False', 'False', 'True', 'False'], dtype=object),\n",
       " array(['False', 'True', 'True', 'False', 'True'], dtype=object)]"
      ]
     },
     "metadata": {},
     "execution_count": 7
    }
   ],
   "source": [
    "#predict\n",
    "\n",
    "model.predict([['True', None, 'False', 'True', 'False'], ['False', 'True', None, 'False', 'True']])\n"
   ]
  },
  {
   "cell_type": "code",
   "execution_count": 8,
   "metadata": {},
   "outputs": [
    {
     "output_type": "execute_result",
     "data": {
      "text/plain": [
       "[array(['True', {\n",
       "                    \"class\" : \"Distribution\",\n",
       "                    \"dtype\" : \"str\",\n",
       "                    \"name\" : \"DiscreteDistribution\",\n",
       "                    \"parameters\" : [\n",
       "                        {\n",
       "                            \"True\" : 0.00239904038384699,\n",
       "                            \"False\" : 0.997600959616153\n",
       "                        }\n",
       "                    ],\n",
       "                    \"frozen\" : false\n",
       "                }                                        , 'False', 'True',\n",
       "        'False'], dtype=object), array(['False', 'True', {\n",
       "                             \"class\" : \"Distribution\",\n",
       "                             \"dtype\" : \"str\",\n",
       "                             \"name\" : \"DiscreteDistribution\",\n",
       "                             \"parameters\" : [\n",
       "                                 {\n",
       "                                     \"True\" : 0.6148082855883646,\n",
       "                                     \"False\" : 0.3851917144116354\n",
       "                                 }\n",
       "                             ],\n",
       "                             \"frozen\" : false\n",
       "                         }                                       , 'False',\n",
       "        'True'], dtype=object)]"
      ]
     },
     "metadata": {},
     "execution_count": 8
    }
   ],
   "source": [
    "model.predict_proba([['True', None, 'False', 'True', 'False'], ['False', 'True', None, 'False', 'True']])"
   ]
  },
  {
   "cell_type": "code",
   "execution_count": null,
   "metadata": {},
   "outputs": [],
   "source": []
  }
 ]
}