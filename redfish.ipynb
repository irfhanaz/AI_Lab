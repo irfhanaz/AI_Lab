{
 "metadata": {
  "language_info": {
   "codemirror_mode": {
    "name": "ipython",
    "version": 3
   },
   "file_extension": ".py",
   "mimetype": "text/x-python",
   "name": "python",
   "nbconvert_exporter": "python",
   "pygments_lexer": "ipython3",
   "version": "3.7.4"
  },
  "orig_nbformat": 2,
  "kernelspec": {
   "name": "python374jvsc74a57bd0eb45b17e353abe5420ddf756149ca00151f446855178e689a23f02481b0b293d",
   "display_name": "Python 3.7.4 64-bit ('base': conda)"
  }
 },
 "nbformat": 4,
 "nbformat_minor": 2,
 "cells": [
  {
   "cell_type": "code",
   "execution_count": 9,
   "metadata": {},
   "outputs": [],
   "source": [
    "total = int(input(\"Total Number of Fish: \"))\n",
    "per_red = int(input(\"Percentage of Fish that are RED: \"))\n",
    "goal_per = int(input(\"Goal Percentage after Removal of RED fish: \"))\n",
    "goal_per /= 100"
   ]
  },
  {
   "cell_type": "code",
   "execution_count": 10,
   "metadata": {},
   "outputs": [
    {
     "output_type": "stream",
     "name": "stdout",
     "text": [
      "Number of Red Fish that Need to Be Removed: \n100\n"
     ]
    }
   ],
   "source": [
    "total_red = total * per_red / 100\n",
    "#total_red - x = goal_per*(total - x)\n",
    "#total_red - (goal_per* total) = (1-goal_per)*x\n",
    "#(total_red - (goal_per * total))/(1-goal_per) = x\n",
    "remove_fish_count = (total_red - (goal_per * total))/(1-goal_per)\n",
    "print(\"Number of Red Fish that Need to Be Removed: \")\n",
    "print(round(remove_fish_count))\n"
   ]
  },
  {
   "cell_type": "code",
   "execution_count": null,
   "metadata": {},
   "outputs": [],
   "source": []
  }
 ]
}