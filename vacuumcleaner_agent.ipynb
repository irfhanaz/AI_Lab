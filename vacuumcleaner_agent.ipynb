{
 "cells": [
  {
   "cell_type": "markdown",
   "metadata": {},
   "source": [
    "# The Vacuum Cleaner World - General Solution\n",
    "#### Irfhana Zakir Hussain | RA1811027010100 | February 4, 2021"
   ]
  },
  {
   "cell_type": "markdown",
   "metadata": {},
   "source": [
    "## Aim\n",
    "- To provide a programming solution to the Vacuum Cleaner World problem in which the parameters are the initial location of the vaccuum, the clean (0) or dirty (1) status of the initial location and the clean (0) or dirty (1) status of the other room. \n",
    "- The Vacuum Cleaner World problem is as follows:\n",
    "    - The intelligent agent is a vacuum cleaner that can be in one of two rooms. Each of these rooms can be clean or dirty. \n",
    "    - The vacuum cleaner can perform the following actions:\n",
    "        1. Check if the room is **DIRTY**\n",
    "        2. Move **LEFT** or **RIGHT** (to the other room)\n",
    "        3. SUCK the dirt from a dirty room\n",
    "        4. Affirm that a room is **CLEAN**\n",
    "        5. No action (no cost)\n",
    "    - Optimize the vacuum cleaner's actions to get to the goal state of both rooms being clean by the path cost. "
   ]
  },
  {
   "cell_type": "markdown",
   "metadata": {},
   "source": [
    "## State-Space Tree\n"
   ]
  },
  {
   "attachments": {
    "vacuumstate.png": {
     "image/png": "[encoded data removed]"
    }
   },
   "cell_type": "markdown",
   "metadata": {},
   "source": [
    "![vacuumstate.png](attachment:vacuumstate.png)"
   ]
  },
  {
   "source": [
    "## Code"
   ],
   "cell_type": "markdown",
   "metadata": {}
  },
  {
   "cell_type": "code",
   "execution_count": 13,
   "metadata": {},
   "outputs": [],
   "source": [
    "initial_loc = input(\"Initial Location of Vacuum (A or B)\") #user_input of location vacuum is placed\n",
    "loc_status = input(\"Enter status of \" + initial_loc) #user_input if location is dirty or clean\n",
    "if initial_loc == \"A\":\n",
    "    other_status = input(\"Enter status of B: \")\n",
    "    other_loc = \"B\"\n",
    "    goal_state = {'A': loc_status, 'B': other_status}\n",
    "else:\n",
    "    other_status = input(\"Enter status of A: \")\n",
    "    goal_state = {'A': other_status, 'B': loc_status}\n",
    "    other_loc = \"A\""
   ]
  },
  {
   "cell_type": "code",
   "execution_count": 14,
   "metadata": {},
   "outputs": [
    {
     "name": "stdout",
     "output_type": "stream",
     "text": [
      "B  == DIRTY\n",
      "VACUUM SUCK\n",
      "B  == CLEAN\n",
      "MOVE  LEFT\n",
      "A  == DIRTY\n",
      "VACUUM SUCK\n",
      "A  == CLEAN\n"
     ]
    }
   ],
   "source": [
    "if initial_loc == 'A': #depending on the inital room, you can only move in one direction\n",
    "    move = \"RIGHT\"\n",
    "else:\n",
    "    move = \"LEFT\"\n",
    "moves = []\n",
    "if loc_status == '1': #makes the most sense to completely clean the initial room before moving on to the other room\n",
    "    print(initial_loc, \" == DIRTY\")\n",
    "    moves.append([initial_loc, \"DIRTY\"])\n",
    "    moves.append([initial_loc, \"SUCK\"])\n",
    "    moves.append([initial_loc, \"CLEAN\"])\n",
    "    print(\"VACUUM SUCK\")\n",
    "    print(initial_loc, \" == CLEAN\") #by the end of this, the path cost has increased by 3\n",
    "    if other_status == '1': #if the other room is dirty then another three moves will be needed to clean it but to get to the other room itself adds another move in itself.\n",
    "        print(\"MOVE \", move)\n",
    "        moves.append([initial_loc, move])\n",
    "        print(other_loc, \" == DIRTY\")\n",
    "        moves.append([other_loc, \"DIRTY\"])\n",
    "        moves.append([other_loc, \"SUCK\"])\n",
    "        moves.append([other_loc, \"CLEAN\"])\n",
    "        print(\"VACUUM SUCK\")\n",
    "        print(other_loc, \" == CLEAN\")\n",
    "    else:\n",
    "        print(\"MOVE \", move) #before you can even check if the other room is clean or dirty, you need to get to the other room \n",
    "        print(other_loc, \" == CLEAN\")\n",
    "        moves.append([initial_loc, move])\n",
    "        moves.append([other_loc, \"CLEAN\"])\n",
    "        print(\"No Further Action Needed\")\n",
    "else:\n",
    "    print(initial_loc, \" == CLEAN\") #in the case of the initial room being clean, the first two steps are omitted from the path\n",
    "    moves.append([initial_loc, \"CLEAN\"])\n",
    "    if other_status == '1':\n",
    "        print(\"MOVE \", move)\n",
    "        print(other_loc, \" == DIRTY\")\n",
    "        moves.append([initial_loc, move])\n",
    "        moves.append([other_loc, \"DIRTY\"])\n",
    "        moves.append([other_loc, \"SUCK\"])\n",
    "        moves.append([other_loc, \"CLEAN\"])\n",
    "        print(\"VACUUM SUCK\")\n",
    "        print(other_loc, \" == CLEAN\")\n",
    "    else:\n",
    "        print(\"MOVE \", move)\n",
    "        print(other_loc, \" == CLEAN\")\n",
    "        moves.append([initial_loc, move])\n",
    "        moves.append([other_loc, \"CLEAN\"])\n",
    "        print(\"No Further Action Needed\")\n"
   ]
  },
  {
   "cell_type": "code",
   "execution_count": 15,
   "metadata": {},
   "outputs": [
    {
     "name": "stdout",
     "output_type": "stream",
     "text": [
      "Goal State Achieved\n",
      "Path Cost:  7\n"
     ]
    }
   ],
   "source": [
    "print(\"Goal State Achieved\")\n",
    "print(\"Path Cost: \", len(moves))"
   ]
  },
  {
   "cell_type": "markdown",
   "metadata": {},
   "source": [
    "## Results\n",
    "We have successfully implemented the general solution to the Vacuum Cleaner World problem.\n",
    "\n",
    "Some sample solutions:\n",
    "-   Input: A, 1, 1\n",
    "-   Output: \n",
    "    -           A  == DIRTY\n",
    "    -           VACUUM SUCK\n",
    "    -           A  == CLEAN\n",
    "    -           MOVE  RIGHT\n",
    "    -           B  == DIRTY\n",
    "    -           VACUUM SUCK\n",
    "    -           B  == CLEAN\n",
    "    -           Path Cost: 7\n",
    "-   Input: B, 0, 1\n",
    "-   Output: \n",
    "    -           B  == CLEAN\n",
    "    -           MOVE  LEFT\n",
    "    -           A  == DIRTY\n",
    "    -           VACUUM SUCK\n",
    "    -           A  == CLEAN\n",
    "    -           Path Cost: 5\n",
    "-   Input: A, 0, 0\n",
    "-   Output: \n",
    "    -           A  == CLEAN\n",
    "    -           MOVE  RIGHT\n",
    "    -           B  == CLEAN\n",
    "    -           Path Cost: 3"
   ]
  }
 ],
 "metadata": {
  "kernelspec": {
   "display_name": "Python 3",
   "language": "python",
   "name": "python3"
  },
  "language_info": {
   "codemirror_mode": {
    "name": "ipython",
    "version": 3
   },
   "file_extension": ".py",
   "mimetype": "text/x-python",
   "name": "python",
   "nbconvert_exporter": "python",
   "pygments_lexer": "ipython3",
   "version": "3.7.4"
  }
 },
 "nbformat": 4,
 "nbformat_minor": 2
}