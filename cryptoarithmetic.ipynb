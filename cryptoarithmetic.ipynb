{
 "cells": [
  {
   "cell_type": "markdown",
   "metadata": {},
   "source": [
    "# CryptArithmetic Solver - General Solution \n",
    "#### Irfhana Zakir Hussain | RA1811027010100 | February 12, 2021"
   ]
  },
  {
   "cell_type": "markdown",
   "metadata": {},
   "source": [
    "## Aim\n",
    "- To provide a programming solution that solves any cryptarithmetic problem.\n",
    "- Cryptarithmetic problems follow these characteristics:\n",
    "    - The task in cryptarithmetic problem is to substitute each digit (0=9) with an alphabet to get the result arithmetically correct.\n",
    "    - There should be a unique digit to be replaced with a unique alphabet.\n",
    "    - The result should satisfy the predefined arithmetic rules, i.e., 2+2 =4, nothing else.\n",
    "    - There should be only one carry forward, while performing the addition operation on a problem.\n",
    "    - The problem can be solved from both sides, i.e., left hand side (L.H.S), or right hand side (R.H.S)"
   ]
  },
  {
   "cell_type": "markdown",
   "metadata": {},
   "source": [
    "# Manual Procedure\n",
    "\n",
    "For SEND + MORE + MONEY:\n",
    "\n",
    "To begin, start in the 5th column. Since 9999 + 9999 < 20000, we must have M = 1.\n",
    "\n",
    "Then go to the 4th column. Since 999 + 999 < 2000, we either have 1 + S + 1 = O + 10,or S + 1 = O + 10, meaning S = O + 8 or S = O + 9, and O = 0 or 1. Since S is a single digit, and M = 1, we must have O = 0.\n",
    "\n",
    "In the 3rd column, since E cannot equal N, we cannot have E + 0 = N. Thus we must have 1 + E + 0 = N. Since N cannot be 0, we must also have E less than 9. So there cannot be carryover in this column, and the 2nd column must have carryover.\n",
    "\n",
    "Returning to the 4th column (which has no carryover from the 3rd), we must have S + 1 = 10, which means S = 9.\n",
    "\n",
    "Now we know 1 + E = N, and there must be carryover from the 2nd column. So we have two cases: N + R = E + 10, or N + R + 1 = E + 10. We can substitute 1 + E = N in both cases to get (1 + E) + R = E + 10 –> R = 9 (but 9 is already taken), or we have 1 + E + R + 1 = E + 10 –> R = 8. So we must have R = 8.\n",
    "\n",
    "Now in the units column D + E = Y, and it must have carryover. Since Y cannot be 0 or 1, we need D + E ≥ 12. Since 9 and 8 are taken for S and R, we can have 5 + 7 = 12 or 6 + 7 = 13. So either D = 7 or E = 7.\n",
    "\n",
    "If E = 7, then E + 1 = N so N = 8–which is not possible since R = 8. So we must have D = 7, meaning E is either 5 or 6.\n",
    "\n",
    "If E = 6, then N = 7 which is not possible as D = 7. So we must have E = 5 and N = 6. This means D + E = 7 + 5 = 12, and thus Y = 2.\n",
    "\n",
    "SEND + MORE = 9567 + 1085 = 10652.\n"
   ]
  },
  {
   "cell_type": "markdown",
   "metadata": {},
   "source": [
    "# Code"
   ]
  },
  {
   "cell_type": "code",
   "execution_count": 58,
   "metadata": {},
   "outputs": [],
   "source": [
    "import itertools\n",
    "import string"
   ]
  },
  {
   "cell_type": "code",
   "execution_count": 59,
   "metadata": {},
   "outputs": [],
   "source": [
    "def split_string(st): #gets the individual letters\n",
    "    return tuple(st.upper().split())"
   ]
  },
  {
   "cell_type": "code",
   "execution_count": 60,
   "metadata": {},
   "outputs": [],
   "source": [
    "def works(p, puzzle): #will map the answer in numbers to the original puzzle and check correctness\n",
    "    op1, operator, op2, e, res = split_string(puzzle.translate(p)) #operator1, op3,\n",
    "    return eval(op1 + operator + op2 + \"==\" + res) #+ operator1 + op3"
   ]
  },
  {
   "cell_type": "code",
   "execution_count": 61,
   "metadata": {},
   "outputs": [],
   "source": [
    "def get_perm(puzzle, letters): #will get every possible permutation\n",
    "    digits = ['0', '1', '2', '3', '4', '5', '6', '7', '8', '9']\n",
    "    op1 = []\n",
    "    op2 = []\n",
    "    #op3 = []\n",
    "    res = []\n",
    "    operand = None\n",
    "    #operand1 = None\n",
    "    flag = 0\n",
    "    for i in puzzle:\n",
    "        if i == ' ':\n",
    "            continue\n",
    "        if i in \"+-*/\": #and operand == None:\n",
    "            operand = i\n",
    "            flag = 1\n",
    "            continue\n",
    "        #elif i in \"+-*/\":\n",
    "            #operand1 = i\n",
    "            #flag = 3\n",
    "            #continue\n",
    "        if i is \"=\":\n",
    "            flag = 2\n",
    "            continue\n",
    "        if flag == 0:\n",
    "            op1.append(i)\n",
    "            continue\n",
    "        elif flag == 1:\n",
    "            op2.append(i)\n",
    "            continue\n",
    "        elif flag == 2:\n",
    "            res.append(i)\n",
    "        #elif flag == 3:\n",
    "            #op3.append(i)\n",
    "            #continue\n",
    "    start_indices = []\n",
    "    start_indices.append(letters.index(op1[0])) #getting the starting letter of each operand and result\n",
    "    start_indices.append(letters.index(op2[0]))\n",
    "    #start_indices.append(letters.index(op3[0]))\n",
    "    start_indices.append(letters.index(res[0]))\n",
    "    pos_perm = []\n",
    "    for perm in itertools.permutations(digits, len(letters)):\n",
    "        flag = 0\n",
    "        for i in start_indices: #the start letters cannot be 0 by arithmetic rules\n",
    "            if perm[i] == '0':\n",
    "                flag = 1\n",
    "                break\n",
    "        if flag == 0:\n",
    "            pos_perm.append(perm)\n",
    "    return pos_perm, op1, op2, operand, res #, op3, operand1\n",
    "\n"
   ]
  },
  {
   "cell_type": "code",
   "execution_count": 62,
   "metadata": {},
   "outputs": [],
   "source": [
    "def solve_puzzle():\n",
    "    problem_string = input(\"Enter the cryptarithmetic problem equation: \")\n",
    "    print(problem_string)\n",
    "    letters = [i for i in set(''.join(split_string(problem_string))) if i.isalpha()]\n",
    "    print(letters)\n",
    "    if len(letters) > 10:\n",
    "        print(\"INVALID EQUATION. More than one letter maps to the same digit!\")\n",
    "        retur\n",
    "    poss, op1, op2, operand, res = get_perm(problem_string, letters) #, op3, operand1\n",
    "    for pos in poss:\n",
    "            p = str.maketrans(''.join(letters), ''.join(pos))\n",
    "            if works(p, problem_string): #if it maps properly and solves the problem\n",
    "                ans = dict(zip(letters, pos))\n",
    "                print(ans)\n",
    "                solved = problem_string\n",
    "                for k in ans:\n",
    "                    x = solved.replace(k, ans[k])\n",
    "                    solved = x\n",
    "                print(solved)\n",
    "                nums = solved.split('= ')\n",
    "                print(nums)\n",
    "                nums_l = [int(x) for x in nums[1] if x.isdigit()]\n",
    "                print(sum(nums_l))\n",
    "    return\n"
   ]
  },
  {
   "cell_type": "code",
   "execution_count": 63,
   "metadata": {
    "tags": []
   },
   "outputs": [
    {
     "output_type": "stream",
     "name": "stdout",
     "text": [
      "SEND + MORE = MONEY\n",
      "['S', 'N', 'M', 'R', 'E', 'D', 'Y', 'O']\n",
      "{'S': '9', 'N': '6', 'M': '1', 'R': '8', 'E': '5', 'D': '7', 'Y': '2', 'O': '0'}\n",
      "9567 + 1085 = 10652\n",
      "['9567 + 1085 ', '10652']\n",
      "14\n"
     ]
    }
   ],
   "source": [
    "solve_puzzle()"
   ]
  },
  {
   "cell_type": "markdown",
   "metadata": {},
   "source": [
    "# Results:\n",
    "We have successfully implemented the general solution to cryptarithmetic problems.\n",
    "\n",
    "Some sample solutions:\n",
    "-   Input: SEND + MORE = MONEY\n",
    "-   Output: \n",
    "    -           {'E': '5', 'R': '8', 'M': '1', 'S': '9', 'Y': '2', 'O': '0', 'D': '7', 'N': '6'}\n",
    "    -           9567 + 1085 = 10652\n",
    "-   Input: SQUARE - DANCE = DANCER\n",
    "-   Output: \n",
    "    -           {'R': '0', 'E': '8', 'C': '2', 'N': '4', 'A': '7', 'D': '5', 'Q': '3', 'U': '1', 'S': '6'}\n",
    "    -           631708 - 57428 = 574280\n",
    "-   Input: FOUR - TWO = TWO\n",
    "-   Output: \n",
    "    -           {'F': '1', 'R': '0', 'T': '7', 'W': '6', 'O': '5', 'U': '3'}\n",
    "    -           1530 - 765 = 765\n",
    "    -           {'F': '1', 'R': '2', 'T': '8', 'W': '3', 'O': '6', 'U': '7'}\n",
    "    -           1672 - 836 = 836\n",
    "    -           {'F': '1', 'R': '2', 'T': '8', 'W': '4', 'O': '6', 'U': '9'}\n",
    "    -           1692 - 846 = 846\n",
    "    -           {'F': '1', 'R': '4', 'T': '8', 'W': '6', 'O': '7', 'U': '3'}\n",
    "    -           1734 - 867 = 867\n",
    "    -           {'F': '1', 'R': '6', 'T': '9', 'W': '2', 'O': '8', 'U': '5'}\n",
    "    -           1856 - 928 = 928\n",
    "    -           {'F': '1', 'R': '6', 'T': '9', 'W': '3', 'O': '8', 'U': '7'}\n",
    "    -           1876 - 938 = 938\n",
    "    -           {'F': '1', 'R': '8', 'T': '7', 'W': '3', 'O': '4', 'U': '6'}\n",
    "    -           1468 - 734 = 734"
   ]
  },
  {
   "source": [
    "POINT + ZERO = ENERGY\n",
    "- ['I', 'N', 'G', 'Z', 'R', 'E', 'Y', 'P', 'O', 'T']\n",
    "- {'I': '5', 'N': '0', 'G': '7', 'Z': '3', 'R': '6', 'E': '1', 'Y': '2', 'P': '9', 'O': '8', 'T': '4'}\n",
    "- 98504 + 3168 = 101672"
   ],
   "cell_type": "markdown",
   "metadata": {}
  },
  {
   "source": [
    "EAT + THAT = APPLE\n",
    "- ['L', 'H', 'E', 'A', 'P', 'T']\n",
    "- {'L': '3', 'H': '2', 'E': '8', 'A': '1', 'P': '0', 'T': '9'}\n",
    "- 819 + 9219 = 10038"
   ],
   "cell_type": "markdown",
   "metadata": {}
  },
  {
   "source": [
    "NO + GUN + NO = HUNT <- make sure to add code in '#' in appropriate lines\n",
    "- ['N', 'G', 'H', 'U', 'O', 'T']\n",
    "- {'N': '8', 'G': '9', 'H': '1', 'U': '0', 'O': '7', 'T': '2'}\n",
    "- 87 + 908 + 87 = 1082\n",
    "- ['87 + 908 + 87 ', '1082']\n",
    "- 11"
   ],
   "cell_type": "markdown",
   "metadata": {}
  },
  {
   "source": [
    "TOM + NAG = GOAT\n",
    "['N', 'G', 'M', 'A', 'O', 'T']\n",
    "{'N': '2', 'G': '1', 'M': '7', 'A': '3', 'O': '0', 'T': '8'}\n",
    "807 + 231 = 1038\n",
    "['807 + 231 ', '1038']\n",
    "12\n",
    "{'N': '2', 'G': '1', 'M': '7', 'A': '4', 'O': '0', 'T': '8'}\n",
    "807 + 241 = 1048\n",
    "['807 + 241 ', '1048']\n",
    "13\n",
    "{'N': '2', 'G': '1', 'M': '7', 'A': '5', 'O': '0', 'T': '8'}\n",
    "807 + 251 = 1058\n",
    "['807 + 251 ', '1058']\n",
    "14\n",
    "{'N': '2', 'G': '1', 'M': '7', 'A': '6', 'O': '0', 'T': '8'}\n",
    "807 + 261 = 1068\n",
    "['807 + 261 ', '1068']\n",
    "15\n",
    "{'N': '2', 'G': '1', 'M': '7', 'A': '9', 'O': '0', 'T': '8'}\n",
    "807 + 291 = 1098\n",
    "['807 + 291 ', '1098']\n",
    "18\n",
    "{'N': '3', 'G': '1', 'M': '6', 'A': '2', 'O': '0', 'T': '7'}\n",
    "706 + 321 = 1027\n",
    "['706 + 321 ', '1027']\n",
    "10\n",
    "{'N': '3', 'G': '1', 'M': '6', 'A': '4', 'O': '0', 'T': '7'}\n",
    "706 + 341 = 1047\n",
    "['706 + 341 ', '1047']\n",
    "12\n",
    "{'N': '3', 'G': '1', 'M': '6', 'A': '5', 'O': '0', 'T': '7'}\n",
    "706 + 351 = 1057\n",
    "['706 + 351 ', '1057']\n",
    "13\n",
    "{'N': '3', 'G': '1', 'M': '6', 'A': '8', 'O': '0', 'T': '7'}\n",
    "706 + 381 = 1087\n",
    "['706 + 381 ', '1087']\n",
    "16\n",
    "{'N': '3', 'G': '1', 'M': '6', 'A': '9', 'O': '0', 'T': '7'}\n",
    "706 + 391 = 1097\n",
    "['706 + 391 ', '1097']\n",
    "17\n",
    "{'N': '4', 'G': '1', 'M': '5', 'A': '2', 'O': '0', 'T': '6'}\n",
    "605 + 421 = 1026\n",
    "['605 + 421 ', '1026']\n",
    "9\n",
    "{'N': '4', 'G': '1', 'M': '5', 'A': '3', 'O': '0', 'T': '6'}\n",
    "605 + 431 = 1036\n",
    "['605 + 431 ', '1036']\n",
    "10\n",
    "{'N': '4', 'G': '1', 'M': '5', 'A': '7', 'O': '0', 'T': '6'}\n",
    "605 + 471 = 1076\n",
    "['605 + 471 ', '1076']\n",
    "14\n",
    "{'N': '4', 'G': '1', 'M': '5', 'A': '8', 'O': '0', 'T': '6'}\n",
    "605 + 481 = 1086\n",
    "['605 + 481 ', '1086']\n",
    "15\n",
    "{'N': '4', 'G': '1', 'M': '5', 'A': '9', 'O': '0', 'T': '6'}\n",
    "605 + 491 = 1096\n",
    "['605 + 491 ', '1096']\n",
    "16\n",
    "{'N': '6', 'G': '1', 'M': '3', 'A': '2', 'O': '0', 'T': '4'}\n",
    "403 + 621 = 1024\n",
    "['403 + 621 ', '1024']\n",
    "7\n",
    "{'N': '6', 'G': '1', 'M': '3', 'A': '5', 'O': '0', 'T': '4'}\n",
    "403 + 651 = 1054\n",
    "['403 + 651 ', '1054']\n",
    "10\n",
    "{'N': '6', 'G': '1', 'M': '3', 'A': '7', 'O': '0', 'T': '4'}\n",
    "403 + 671 = 1074\n",
    "['403 + 671 ', '1074']\n",
    "12\n",
    "{'N': '6', 'G': '1', 'M': '3', 'A': '8', 'O': '0', 'T': '4'}\n",
    "403 + 681 = 1084\n",
    "['403 + 681 ', '1084']\n",
    "13\n",
    "{'N': '6', 'G': '1', 'M': '3', 'A': '9', 'O': '0', 'T': '4'}\n",
    "403 + 691 = 1094\n",
    "['403 + 691 ', '1094']\n",
    "14\n",
    "{'N': '7', 'G': '1', 'M': '2', 'A': '4', 'O': '0', 'T': '3'}\n",
    "302 + 741 = 1043\n",
    "['302 + 741 ', '1043']\n",
    "8\n",
    "{'N': '7', 'G': '1', 'M': '2', 'A': '5', 'O': '0', 'T': '3'}\n",
    "302 + 751 = 1053\n",
    "['302 + 751 ', '1053']\n",
    "9\n",
    "{'N': '7', 'G': '1', 'M': '2', 'A': '6', 'O': '0', 'T': '3'}\n",
    "302 + 761 = 1063\n",
    "['302 + 761 ', '1063']\n",
    "10\n",
    "{'N': '7', 'G': '1', 'M': '2', 'A': '8', 'O': '0', 'T': '3'}\n",
    "302 + 781 = 1083\n",
    "['302 + 781 ', '1083']\n",
    "12\n",
    "{'N': '7', 'G': '1', 'M': '2', 'A': '9', 'O': '0', 'T': '3'}\n",
    "302 + 791 = 1093\n",
    "['302 + 791 ', '1093']\n",
    "13"
   ],
   "cell_type": "markdown",
   "metadata": {}
  }
 ],
 "metadata": {
  "kernelspec": {
   "name": "python374jvsc74a57bd0eb45b17e353abe5420ddf756149ca00151f446855178e689a23f02481b0b293d",
   "display_name": "Python 3.7.4 64-bit ('base': conda)"
  },
  "language_info": {
   "codemirror_mode": {
    "name": "ipython",
    "version": 3
   },
   "file_extension": ".py",
   "mimetype": "text/x-python",
   "name": "python",
   "nbconvert_exporter": "python",
   "pygments_lexer": "ipython3",
   "version": "3.7.4"
  }
 },
 "nbformat": 4,
 "nbformat_minor": 2
}